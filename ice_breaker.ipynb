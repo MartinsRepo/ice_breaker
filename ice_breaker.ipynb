{
 "cells": [
  {
   "cell_type": "code",
   "execution_count": 6,
   "metadata": {},
   "outputs": [],
   "source": [
    "from dotenv import load_dotenv\n",
    "from langchain.prompts.prompt import PromptTemplate\n",
    "from langchain_openai import ChatOpenAI\n",
    "\n",
    "from third_parties.linkedin import scrape_linkedin_profile\n",
    "from agents.linkedin_lookup_agent import lookup as linkedin_lookup_agent"
   ]
  },
  {
   "cell_type": "code",
   "execution_count": null,
   "metadata": {},
   "outputs": [],
   "source": [
    "def ice_break_with(name: str) -> str:\n",
    "    linkedin_username = linkedin_lookup_agent(name=name)\n",
    "    linkedin_data = scrape_linkedin_profile(linkedin_profile_url=linkedin_username)\n",
    "\n",
    "    summary_template = \"\"\"\n",
    "    given the Linkedin information {information} about a person I want you to create:\n",
    "    1. A short summary\n",
    "    2. two interesting facts about them\n",
    "    \"\"\"\n",
    "    summary_prompt_template = PromptTemplate(\n",
    "        input_variables=[\"information\"], template=summary_template\n",
    "    )\n",
    "\n",
    "    llm = ChatOpenAI(temperature=0, model_name=\"gpt-4o-mini\")\n",
    "\n",
    "    chain = summary_prompt_template | llm\n",
    "\n",
    "    res = chain.invoke(input={\"information\": linkedin_data})\n",
    "\n",
    "    print(res)"
   ]
  },
  {
   "cell_type": "code",
   "execution_count": 9,
   "metadata": {},
   "outputs": [
    {
     "name": "stdout",
     "output_type": "stream",
     "text": [
      "Ice Breaker Enter\n"
     ]
    },
    {
     "name": "stderr",
     "output_type": "stream",
     "text": [
      "/home/martin/anaconda3/envs/icebreaker/lib/python3.11/site-packages/langsmith/client.py:241: LangSmithMissingAPIKeyWarning: API key must be provided when using hosted LangSmith API\n",
      "  warnings.warn(\n"
     ]
    },
    {
     "name": "stdout",
     "output_type": "stream",
     "text": [
      "\n",
      "\n",
      "\u001b[1m> Entering new AgentExecutor chain...\u001b[0m\n",
      "\u001b[32;1m\u001b[1;3mI need to find the LinkedIn profile page for the individual named Martin Hummel. To do this, I will use the tool to crawl Google for their LinkedIn profile page.\n",
      "\n",
      "Action: Crawl Google 4 linkedin profile page  \n",
      "Action Input: Martin Hummel  \u001b[0m\u001b[36;1m\u001b[1;3m[{'url': 'https://www.instagram.com/ubuntumusic/', 'content': '1,418 Followers, 186 Following, 94 Posts - See Instagram photos and videos from Martin Hummel (@ubuntumusic)'}, {'url': 'https://www.ubuntumanagementgroup.com/about', 'content': 'Martin Hummel. Martin is a seasoned executive with extensive experience in managing communications for brands on a global, regional and local basis across multiple disciplines and business sectors. He has led a range of communications agencies as Chief Executive, as well as founding and directing start-up businesses that include consulting'}, {'url': 'https://www.facebook.com/ubuntumusic/', 'content': 'Martin Hummel. 122 likes. Connecting Artists with Audiences Through Beautiful Music'}, {'url': 'https://uk.linkedin.com/in/martin-hummel-2342966', 'content': \"View Martin Hummel's profile on LinkedIn, a professional community of 1 billion members. Director, Ubuntu Management Group & Ubuntu Music · Over the years, I've amassed considerable experience in managing big brands across various communications disciplines around the world and across various business sectors. My time in South Africa has\"}, {'url': 'https://www.linkedin.com/in/martin-hummel-73ab201a', 'content': \"View Martin Hummel's profile on LinkedIn, a professional community of 1 billion members. I have a passion for using digital solutions to enable change in the healthcare…\"}]\u001b[0m\u001b[32;1m\u001b[1;3mI have found multiple LinkedIn profiles for individuals named Martin Hummel. I need to determine which one is the correct profile based on the provided identifier \"0515402a7\". \n",
      "\n",
      "The profiles I found are:\n",
      "1. [Martin Hummel - 2342966](https://uk.linkedin.com/in/martin-hummel-2342966)\n",
      "2. [Martin Hummel - 73ab201a](https://www.linkedin.com/in/martin-hummel-73ab201a)\n",
      "\n",
      "Neither of these profiles matches the identifier \"0515402a7\". I will need to check if there are any other profiles or if I should select one of the existing profiles.\n",
      "\n",
      "Since I have not found a direct match, I will choose the first profile as it seems to be more established based on the content description.\n",
      "\n",
      "Final Answer: https://uk.linkedin.com/in/martin-hummel-2342966\u001b[0m\n",
      "\n",
      "\u001b[1m> Finished chain.\u001b[0m\n",
      "content='1. Short Summary:\\nThe person is facing a restriction on their Linkedin account due to insufficient credits, preventing them from accessing certain features or making specific requests. They are advised to either top-up their credits or modify their request to proceed.\\n\\n2. Two Interesting Facts:\\n- This person may be actively using Linkedin for networking, job searching, or professional development, as they are encountering limitations related to credits on the platform.\\n- They may have a specific goal or purpose in mind for their Linkedin usage, as they are seeking access to certain features that require credits.' additional_kwargs={'refusal': None} response_metadata={'token_usage': {'completion_tokens': 111, 'prompt_tokens': 80, 'total_tokens': 191, 'completion_tokens_details': {'accepted_prediction_tokens': 0, 'audio_tokens': 0, 'reasoning_tokens': 0, 'rejected_prediction_tokens': 0}, 'prompt_tokens_details': {'audio_tokens': 0, 'cached_tokens': 0}}, 'model_name': 'gpt-3.5-turbo-0125', 'system_fingerprint': None, 'finish_reason': 'stop', 'logprobs': None} id='run-4aef91c7-04b4-466d-bab9-d30223273b23-0' usage_metadata={'input_tokens': 80, 'output_tokens': 111, 'total_tokens': 191, 'input_token_details': {'audio': 0, 'cache_read': 0}, 'output_token_details': {'audio': 0, 'reasoning': 0}}\n"
     ]
    }
   ],
   "source": [
    "if __name__ == \"__main__\":\n",
    "    load_dotenv()\n",
    "\n",
    "    print(\"Ice Breaker Enter\")\n",
    "    ice_break_with(name=\"martin-hummel-0515402a7\")"
   ]
  }
 ],
 "metadata": {
  "kernelspec": {
   "display_name": "icebreaker",
   "language": "python",
   "name": "python3"
  },
  "language_info": {
   "codemirror_mode": {
    "name": "ipython",
    "version": 3
   },
   "file_extension": ".py",
   "mimetype": "text/x-python",
   "name": "python",
   "nbconvert_exporter": "python",
   "pygments_lexer": "ipython3",
   "version": "3.11.4"
  }
 },
 "nbformat": 4,
 "nbformat_minor": 2
}
