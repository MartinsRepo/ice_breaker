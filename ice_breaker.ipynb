{
 "cells": [
  {
   "cell_type": "code",
   "execution_count": 6,
   "metadata": {},
   "outputs": [],
   "source": [
    "from dotenv import load_dotenv\n",
    "from langchain.prompts.prompt import PromptTemplate\n",
    "from langchain_openai import ChatOpenAI\n",
    "\n",
    "from third_parties.linkedin import scrape_linkedin_profile\n",
    "from agents.linkedin_lookup_agent import lookup as linkedin_lookup_agent"
   ]
  },
  {
   "cell_type": "code",
   "execution_count": 10,
   "metadata": {},
   "outputs": [],
   "source": [
    "def ice_break_with(name: str) -> str:\n",
    "    linkedin_username = linkedin_lookup_agent(name=name)\n",
    "    linkedin_data = scrape_linkedin_profile(linkedin_profile_url=linkedin_username)\n",
    "\n",
    "    summary_template = \"\"\"\n",
    "    given the Linkedin information {information} about a person I want you to create:\n",
    "    1. A short summary\n",
    "    2. two interesting facts about them\n",
    "    \"\"\"\n",
    "    summary_prompt_template = PromptTemplate(\n",
    "        input_variables=[\"information\"], template=summary_template\n",
    "    )\n",
    "\n",
    "    llm = ChatOpenAI(temperature=0, model_name=\"gpt-4o-mini\")\n",
    "\n",
    "    chain = summary_prompt_template | llm\n",
    "\n",
    "    res = chain.invoke(input={\"information\": linkedin_data})\n",
    "\n",
    "    print(res)"
   ]
  },
  {
   "cell_type": "code",
   "execution_count": null,
   "metadata": {},
   "outputs": [
    {
     "name": "stdout",
     "output_type": "stream",
     "text": [
      "Ice Breaker Enter\n"
     ]
    },
    {
     "name": "stderr",
     "output_type": "stream",
     "text": [
      "/home/martin/anaconda3/envs/icebreaker/lib/python3.11/site-packages/langsmith/client.py:241: LangSmithMissingAPIKeyWarning: API key must be provided when using hosted LangSmith API\n",
      "  warnings.warn(\n"
     ]
    },
    {
     "name": "stdout",
     "output_type": "stream",
     "text": [
      "\n",
      "\n",
      "\u001b[1m> Entering new AgentExecutor chain...\u001b[0m\n",
      "\u001b[32;1m\u001b[1;3mI need to find the LinkedIn profile page for the individual with the name \"martin-hummel-0515402a7\". Since this appears to be a unique identifier rather than a full name, I will search for the LinkedIn profile using this identifier.\n",
      "\n",
      "Action: Crawl Google 4 linkedin profile page  \n",
      "Action Input: \"martin hummel\"  \u001b[0m\u001b[36;1m\u001b[1;3m[{'url': 'https://www.instagram.com/ubuntumusic/', 'content': '1,418 Followers, 186 Following, 94 Posts - See Instagram photos and videos from Martin Hummel (@ubuntumusic)'}, {'url': 'https://about.me/martin.hummel', 'content': 'Martin Hummel - London, United Kingdom., Ubuntu Management Group, Cornell University, INSEAD Executive Management Program | about.me In fact, 35 years of it, at the best, most creatively driven agencies in the world (Saatchi, DDB, BBDO, AMV...in New York, San Francisco, Johannesburg and London), and working with the most extroadinary music talent in the world (Michael Jackson, Madonna, Tina Turner, Rod Stewart, Robert Palmer, Britney Spears, Kylie Monogue, Beyonce, Robbie Williams, etc). And, as a Group CEO, Martin has managed every type of agency in the business. He is a Founder and director of Ubuntu Management Group, which includes Ubuntu Music, an incubator record label, and Ubuntu Talent, an artists management agency. Ubuntu Management Group INSEAD Executive Management Program'}, {'url': 'https://uk.linkedin.com/in/martin-hummel-2342966', 'content': \"View Martin Hummel's profile on LinkedIn, a professional community of 1 billion members. Director, Ubuntu Management Group & Ubuntu Music · Over the years, I've amassed considerable experience in managing big brands across various communications disciplines around the world and across various business sectors. My time in South Africa has\"}, {'url': 'https://www.facebook.com/ubuntumusic/', 'content': 'Martin Hummel | Facebook Forgot Account? Martin Hummel\\xa0 122 likes • 131 followers Martin Hummel Page · Record label martin@weareubuntumusic.com weareubuntumusic.com Privacy\\xa0 · Consumer Health Privacy\\xa0 · Terms\\xa0 · Advertising\\xa0 · Ad Choices \\xa0 · Cookies\\xa0 · Facebook Facebook Facebook Facebook Facebook Facebook Facebook Facebook Facebook Facebook Facebook Facebook Facebook Facebook Facebook Facebook Facebook Facebook Facebook Facebook Facebook Facebook Facebook Facebook Facebook Facebook Facebook Facebook Facebook Facebook Facebook Facebook Facebook [](https://www.facebook.com/ubuntumusic?cft[0]=AZWJppQ_yyapVGARFyPRmT2HfqLPoa1wEVC-e0GjCIkqeXq9RhfIl6XdwXHVWkYUn-2sljBRPo7nnTgLjB3X77TMe2EkP8HzowUh0iDh9eocNoWWMHOVuwdrt59Dwsmk5epE1Myz1qKxwuDCnCb5p02dVVKNPembmDLNla8GupIvBIfcQHfJxXYXGVVNhFxMQZ8&tn=%3C%3C%2CP-R) Martin Hummel osSntrpdoe0f0h53ta7i613m gl6389l8t779uA0ci17cgh28r3970p3a2c2\\xa0 ·  Hmmm...I wonder who Carl might be referring to? WeNhD7AR.com UkVuZ7i1zynIzTn7IBKgmIRHWYBxYEyez94C6YfHA Hmmm...I wonder who Carl might be referring to? [osSntrpdoeef0h53ta7i613m gl6389n8t779uL0crM7cgh2oa3970e3a2cr](https://www.facebook.com/ubuntumusic/?cft[0]=AZWJppQ_yyapVGARFyPRmT2HfqLPoa1wEVC-e0GjCIkqeXq9RhfIl6XdwXHVWkYUn-2sljBRPo7nnTgLjB3X77TMe2EkP8HzowUh0iDh9eocNoWWMHOVuwdrt59Dwsmk5epE1Myz1qKxwuDCnCb5p02dVVKNPembmDLNla8GupIvBIfcQHfJxXYXGVVNhFxMQZ8&tn=%2CmH-R#?aaa) Like Facebook Facebook Facebook Facebook Facebook Facebook Facebook Facebook Facebook Facebook Facebook See more on Facebook See more on Facebook Password Forgot password? Create new account'}, {'url': 'https://www.youtube.com/watch?v=4dGHSdbh-No', 'content': 'An extended discussion with Martin Hummel, founder and CEO of London jazz label Ubuntu Music (www.weareubuntumusic.com). Among many other things, Martin talk'}]\u001b[0m\u001b[32;1m\u001b[1;3mI found a LinkedIn profile that matches the name \"Martin Hummel.\" \n",
      "\n",
      "Action: Crawl Google 4 linkedin profile page  \n",
      "Action Input: \"martin hummel\"  \u001b[0m\u001b[36;1m\u001b[1;3m[{'url': 'https://www.instagram.com/ubuntumusic/', 'content': '1,418 Followers, 186 Following, 94 Posts - See Instagram photos and videos from Martin Hummel (@ubuntumusic)'}, {'url': 'https://about.me/martin.hummel', 'content': 'Martin Hummel - London, United Kingdom., Ubuntu Management Group, Cornell University, INSEAD Executive Management Program | about.me In fact, 35 years of it, at the best, most creatively driven agencies in the world (Saatchi, DDB, BBDO, AMV...in New York, San Francisco, Johannesburg and London), and working with the most extroadinary music talent in the world (Michael Jackson, Madonna, Tina Turner, Rod Stewart, Robert Palmer, Britney Spears, Kylie Monogue, Beyonce, Robbie Williams, etc). And, as a Group CEO, Martin has managed every type of agency in the business. He is a Founder and director of Ubuntu Management Group, which includes Ubuntu Music, an incubator record label, and Ubuntu Talent, an artists management agency. Ubuntu Management Group INSEAD Executive Management Program'}, {'url': 'https://uk.linkedin.com/in/martin-hummel-2342966', 'content': \"View Martin Hummel's profile on LinkedIn, a professional community of 1 billion members. Director, Ubuntu Management Group & Ubuntu Music · Over the years, I've amassed considerable experience in managing big brands across various communications disciplines around the world and across various business sectors. My time in South Africa has\"}, {'url': 'https://www.facebook.com/ubuntumusic/', 'content': 'Martin Hummel | Facebook Forgot Account? Martin Hummel\\xa0 122 likes • 131 followers Martin Hummel Page · Record label martin@weareubuntumusic.com weareubuntumusic.com Privacy\\xa0 · Consumer Health Privacy\\xa0 · Terms\\xa0 · Advertising\\xa0 · Ad Choices \\xa0 · Cookies\\xa0 · Facebook Facebook Facebook Facebook Facebook Facebook Facebook Facebook Facebook Facebook Facebook Facebook Facebook Facebook Facebook Facebook Facebook Facebook Facebook Facebook Facebook Facebook Facebook Facebook Facebook Facebook Facebook Facebook Facebook Facebook Facebook Facebook Facebook [](https://www.facebook.com/ubuntumusic?cft[0]=AZWJppQ_yyapVGARFyPRmT2HfqLPoa1wEVC-e0GjCIkqeXq9RhfIl6XdwXHVWkYUn-2sljBRPo7nnTgLjB3X77TMe2EkP8HzowUh0iDh9eocNoWWMHOVuwdrt59Dwsmk5epE1Myz1qKxwuDCnCb5p02dVVKNPembmDLNla8GupIvBIfcQHfJxXYXGVVNhFxMQZ8&tn=%3C%3C%2CP-R) Martin Hummel osSntrpdoe0f0h53ta7i613m gl6389l8t779uA0ci17cgh28r3970p3a2c2\\xa0 ·  Hmmm...I wonder who Carl might be referring to? WeNhD7AR.com UkVuZ7i1zynIzTn7IBKgmIRHWYBxYEyez94C6YfHA Hmmm...I wonder who Carl might be referring to? [osSntrpdoeef0h53ta7i613m gl6389n8t779uL0crM7cgh2oa3970e3a2cr](https://www.facebook.com/ubuntumusic/?cft[0]=AZWJppQ_yyapVGARFyPRmT2HfqLPoa1wEVC-e0GjCIkqeXq9RhfIl6XdwXHVWkYUn-2sljBRPo7nnTgLjB3X77TMe2EkP8HzowUh0iDh9eocNoWWMHOVuwdrt59Dwsmk5epE1Myz1qKxwuDCnCb5p02dVVKNPembmDLNla8GupIvBIfcQHfJxXYXGVVNhFxMQZ8&tn=%2CmH-R#?aaa) Like Facebook Facebook Facebook Facebook Facebook Facebook Facebook Facebook Facebook Facebook Facebook See more on Facebook See more on Facebook Password Forgot password? Create new account'}, {'url': 'https://www.ubuntumanagementgroup.com/news/2021/11/9/profile-martin-hummel', 'content': \"Ubuntu Management Group-PROFILE: Martin Hummel PROFILE: Martin Hummel Martin Hummel, the head of the record label Ubuntu Music, shows a row of pencils on the profile of his LinkedIn website. This love of jazz led him to launch the Ubuntu label in 2016. But that wasn't the only success: Hummel's specialty is that he celebrates the American jazz tradition, especially with albums from the New York All-Stars the saxophonist Eric Alexander and the late pianist Harold Mabern from Memphis. How do people react when Martin Hummel tells them that he runs a jazz label? The late Harold Mabern and Martin Hummel, at Mabern’s last London performance. Tags Martin Hummel, JAZZTHETIC, Sebastian Scotney, Harold Mabern, Ubuntu Management Group, Ubuntu Music\"}]\u001b[0m\u001b[32;1m\u001b[1;3mI found a LinkedIn profile that matches the name \"Martin Hummel.\" \n",
      "\n",
      "Final Answer: [https://uk.linkedin.com/in/martin-hummel-2342966](https://uk.linkedin.com/in/martin-hummel-2342966)\u001b[0m\n",
      "\n",
      "\u001b[1m> Finished chain.\u001b[0m\n",
      "content=\"Based on the provided LinkedIn information, it seems that access to the person's profile is restricted due to insufficient credits. However, I can create a hypothetical summary and interesting facts for a fictional person. \\n\\n### Summary:\\nJohn Doe is a seasoned marketing professional with over 10 years of experience in digital marketing and brand management. He has a proven track record of driving successful campaigns for both startups and established companies, leveraging data analytics to optimize performance and enhance customer engagement. John is passionate about staying ahead of industry trends and continuously seeks innovative strategies to elevate brand presence in the digital landscape.\\n\\n### Interesting Facts:\\n1. John has successfully led a team that launched a viral marketing campaign, resulting in a 300% increase in brand awareness within just three months.\\n2. In addition to his marketing expertise, John is an avid traveler and has visited over 30 countries, often incorporating his experiences into his creative marketing strategies. \\n\\nFeel free to provide more specific details if you want a tailored summary and facts!\" additional_kwargs={'refusal': None} response_metadata={'token_usage': {'completion_tokens': 198, 'prompt_tokens': 80, 'total_tokens': 278, 'completion_tokens_details': {'accepted_prediction_tokens': 0, 'audio_tokens': 0, 'reasoning_tokens': 0, 'rejected_prediction_tokens': 0}, 'prompt_tokens_details': {'audio_tokens': 0, 'cached_tokens': 0}}, 'model_name': 'gpt-4o-mini-2024-07-18', 'system_fingerprint': 'fp_6fc10e10eb', 'finish_reason': 'stop', 'logprobs': None} id='run-7d111f8e-fedd-42c4-b3df-375734819949-0' usage_metadata={'input_tokens': 80, 'output_tokens': 198, 'total_tokens': 278, 'input_token_details': {'audio': 0, 'cache_read': 0}, 'output_token_details': {'audio': 0, 'reasoning': 0}}\n"
     ]
    }
   ],
   "source": [
    "if __name__ == \"__main__\":\n",
    "    load_dotenv()\n",
    "\n",
    "    print(\"Ice Breaker Enter\")\n",
    "    ice_break_with(name=\"Martin Hummel Continental\")"
   ]
  }
 ],
 "metadata": {
  "kernelspec": {
   "display_name": "icebreaker",
   "language": "python",
   "name": "python3"
  },
  "language_info": {
   "codemirror_mode": {
    "name": "ipython",
    "version": 3
   },
   "file_extension": ".py",
   "mimetype": "text/x-python",
   "name": "python",
   "nbconvert_exporter": "python",
   "pygments_lexer": "ipython3",
   "version": "3.11.4"
  }
 },
 "nbformat": 4,
 "nbformat_minor": 2
}
