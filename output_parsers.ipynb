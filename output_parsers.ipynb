{
 "cells": [
  {
   "cell_type": "code",
   "execution_count": 1,
   "metadata": {},
   "outputs": [],
   "source": [
    "from typing import List, Dict, Any\n",
    "\n",
    "from langchain_core.output_parsers import PydanticOutputParser\n",
    "from pydantic import BaseModel, Field"
   ]
  },
  {
   "cell_type": "code",
   "execution_count": 2,
   "metadata": {},
   "outputs": [],
   "source": [
    "\n",
    "class Summary(BaseModel):\n",
    "    summary: str = Field(description=\"summary\")\n",
    "    facts: List[str] = Field(description=\"interesting facts about them\")\n",
    "\n",
    "    def to_dict(self) -> Dict[str, Any]:\n",
    "        return {\"summary\": self.summary, \"facts\": self.facts}"
   ]
  },
  {
   "cell_type": "code",
   "execution_count": 3,
   "metadata": {},
   "outputs": [],
   "source": [
    "summary_parser = PydanticOutputParser(pydantic_object=Summary)\n"
   ]
  }
 ],
 "metadata": {
  "kernelspec": {
   "display_name": "icebreaker",
   "language": "python",
   "name": "python3"
  },
  "language_info": {
   "codemirror_mode": {
    "name": "ipython",
    "version": 3
   },
   "file_extension": ".py",
   "mimetype": "text/x-python",
   "name": "python",
   "nbconvert_exporter": "python",
   "pygments_lexer": "ipython3",
   "version": "3.11.4"
  }
 },
 "nbformat": 4,
 "nbformat_minor": 2
}
