{
 "cells": [
  {
   "cell_type": "code",
   "execution_count": null,
   "metadata": {},
   "outputs": [],
   "source": [
    "from dotenv import load_dotenv\n",
    "from langchain.prompts.prompt import PromptTemplate\n",
    "from langchain_openai import ChatOpenAI\n",
    "from third_parties.linkedin import scrape_linkedin_profile"
   ]
  },
  {
   "cell_type": "code",
   "execution_count": null,
   "metadata": {},
   "outputs": [],
   "source": [
    "if __name__ == \"__main__\":\n",
    "    load_dotenv()\n",
    "\n",
    "    print(\"Hello LangChain\")\n",
    "\n",
    "    summary_template = \"\"\"\n",
    "    given the Linkedin information {information} about a person I want you to create:\n",
    "    1. A short summary\n",
    "    2. two interesting facts about them\n",
    "    \"\"\"\n",
    "\n",
    "    summary_prompt_template = PromptTemplate(\n",
    "        input_variables=[\"information\"], template=summary_template\n",
    "    )\n",
    "\n",
    "    llm = ChatOpenAI(temperature=0, model_name=\"gpt-4o-mini\")\n",
    "\n",
    "    chain = summary_prompt_template | llm\n",
    "    linkedin_data = scrape_linkedin_profile(\n",
    "        linkedin_profile_url=\"https://www.linkedin.com/in/eden-marco/\"\n",
    "    )\n",
    "    res = chain.invoke(input={\"information\": linkedin_data})\n",
    "\n",
    "    print(res)"
   ]
  }
 ],
 "metadata": {
  "language_info": {
   "name": "python"
  }
 },
 "nbformat": 4,
 "nbformat_minor": 2
}
