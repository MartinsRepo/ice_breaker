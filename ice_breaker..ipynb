{
 "cells": [
  {
   "cell_type": "code",
   "execution_count": 7,
   "metadata": {},
   "outputs": [],
   "source": [
    "from dotenv import load_dotenv\n",
    "from langchain.prompts.prompt import PromptTemplate\n",
    "from langchain_openai import ChatOpenAI\n",
    "from third_parties.linkedin import scrape_linkedin_profile"
   ]
  },
  {
   "cell_type": "code",
   "execution_count": 8,
   "metadata": {},
   "outputs": [
    {
     "name": "stdout",
     "output_type": "stream",
     "text": [
      "Hello LangChain\n",
      "content=\"### 1. Short Summary\\nMartin Hummel is a seasoned Research and Development Specialist at Continental, with over 20 years of experience in AI, machine learning, and advanced data science. He has a proven track record in driving innovation in autonomous systems and AI-powered infrastructure. Martin has led significant projects, including the development of the KARLI AI language assistant and the HAVEIT autonomous driving demonstrator. He is currently enhancing his expertise through a bootcamp in Generative AI and LLM Application Development.\\n\\n### 2. Two Interesting Facts\\n- **Innovative Projects**: Martin has been instrumental in developing cutting-edge technologies, such as the KARLI AI language assistant for next-generation vehicles, showcasing his ability to apply AI in real-world scenarios.\\n- **Academic Excellence**: He is a Certified Honor Student from AI Accelera's online bootcamp on Generative AI, where he learned to build professional-level LLM applications, reflecting his commitment to continuous learning and professional development in the rapidly evolving field of AI.\" additional_kwargs={'refusal': None} response_metadata={'token_usage': {'completion_tokens': 203, 'prompt_tokens': 1951, 'total_tokens': 2154, 'completion_tokens_details': {'accepted_prediction_tokens': 0, 'audio_tokens': 0, 'reasoning_tokens': 0, 'rejected_prediction_tokens': 0}, 'prompt_tokens_details': {'audio_tokens': 0, 'cached_tokens': 0}}, 'model_name': 'gpt-4o-mini-2024-07-18', 'system_fingerprint': 'fp_bba3c8e70b', 'finish_reason': 'stop', 'logprobs': None} id='run-0b187ce7-9758-4af1-bec1-e33fe3ad7da6-0' usage_metadata={'input_tokens': 1951, 'output_tokens': 203, 'total_tokens': 2154, 'input_token_details': {'audio': 0, 'cache_read': 0}, 'output_token_details': {'audio': 0, 'reasoning': 0}}\n"
     ]
    }
   ],
   "source": [
    "if __name__ == \"__main__\":\n",
    "    load_dotenv()\n",
    "\n",
    "    print(\"Hello LangChain\")\n",
    "\n",
    "    summary_template = \"\"\"\n",
    "    given the Linkedin information {information} about a person I want you to create:\n",
    "    1. A short summary\n",
    "    2. two interesting facts about them\n",
    "    \"\"\"\n",
    "\n",
    "    summary_prompt_template = PromptTemplate(\n",
    "        input_variables=[\"information\"], template=summary_template\n",
    "    )\n",
    "\n",
    "    llm = ChatOpenAI(temperature=0, model_name=\"gpt-4o-mini\")\n",
    "\n",
    "    chain = summary_prompt_template | llm\n",
    "    linkedin_data = scrape_linkedin_profile(\n",
    "        #linkedin_profile_url=\"https://www.linkedin.com/in/eden-marco/\"\n",
    "        linkedin_profile_url=\"https://www.linkedin.com/in/martin-hummel-0515402a7/\"\n",
    "    )\n",
    "    res = chain.invoke(input={\"information\": linkedin_data})\n",
    "\n",
    "    print(res)"
   ]
  }
 ],
 "metadata": {
  "kernelspec": {
   "display_name": "icebreaker",
   "language": "python",
   "name": "python3"
  },
  "language_info": {
   "codemirror_mode": {
    "name": "ipython",
    "version": 3
   },
   "file_extension": ".py",
   "mimetype": "text/x-python",
   "name": "python",
   "nbconvert_exporter": "python",
   "pygments_lexer": "ipython3",
   "version": "3.11.4"
  }
 },
 "nbformat": 4,
 "nbformat_minor": 2
}
