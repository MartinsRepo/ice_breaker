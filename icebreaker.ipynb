{
 "cells": [
  {
   "cell_type": "code",
   "execution_count": 15,
   "metadata": {},
   "outputs": [],
   "source": [
    "from typing import Tuple\n",
    "\n",
    "from pydantic import BaseModel\n",
    "from dotenv import load_dotenv\n",
    "from langchain import LLMChain\n",
    "from langchain.prompts.prompt import PromptTemplate\n",
    "from langchain_openai import ChatOpenAI\n",
    "\n",
    "from third_parties.linkedin import scrape_linkedin_profile\n",
    "from agents.linkedin_lookup_agent import lookup as linkedin_lookup_agent\n",
    "from output_parsers import summary_parser, Summary"
   ]
  },
  {
   "cell_type": "code",
   "execution_count": 16,
   "metadata": {},
   "outputs": [],
   "source": [
    "\n",
    "# Define your Summary model correctly\n",
    "class Summary(BaseModel):\n",
    "    summary: str\n",
    "    facts: list[str]"
   ]
  },
  {
   "cell_type": "code",
   "execution_count": 17,
   "metadata": {},
   "outputs": [],
   "source": [
    "def parse_summary_output(output: str) -> Summary:\n",
    "    try:\n",
    "        lines = output.strip().split('\\n')\n",
    "        summary_text = lines[0].split(\":\")[1].strip()\n",
    "        facts = [line.split(\":\")[1].strip() for line in lines[1:] if line.startswith(\"Fact\")]\n",
    "        return Summary(summary=summary_text, facts=facts)\n",
    "    except IndexError:\n",
    "        print(f\"Error parsing output: {output}\")\n",
    "        return Summary(summary=\"Could not parse summary\", facts=[]) # Return a default object"
   ]
  },
  {
   "cell_type": "code",
   "execution_count": 18,
   "metadata": {},
   "outputs": [],
   "source": [
    "def ice_break_with(name: str) -> Tuple[Summary, str]:\n",
    "    linkedin_username = linkedin_lookup_agent(name=name)\n",
    "    linkedin_data = scrape_linkedin_profile(\n",
    "        linkedin_profile_url=linkedin_username, mock=True\n",
    "    )\n",
    "\n",
    "    summary_template = \"\"\"\n",
    "    given the information about a person from linkedin {information},\n",
    "    I want you to create:\n",
    "    Summary: <short summary here>\n",
    "    Fact 1: <first interesting fact>\n",
    "    Fact 2: <second interesting fact>\n",
    "    \"\"\"\n",
    "\n",
    "    summary_prompt_template = PromptTemplate(\n",
    "        input_variables=[\"information\"],\n",
    "        template=summary_template,\n",
    "    )\n",
    "\n",
    "    llm = ChatOpenAI(temperature=0, model_name=\"gpt-4\") # Use a full model for best results\n",
    "\n",
    "    chain = LLMChain(llm=llm, prompt=summary_prompt_template) # Use LLMChain\n",
    "\n",
    "    llm_output = chain.run(information=linkedin_data)\n",
    "    res = parse_summary_output(llm_output)\n",
    "\n",
    "    return res, linkedin_data.get(\"profile_pic_url\")"
   ]
  },
  {
   "cell_type": "code",
   "execution_count": 19,
   "metadata": {},
   "outputs": [
    {
     "name": "stdout",
     "output_type": "stream",
     "text": [
      "Ice Breaker Enter\n"
     ]
    },
    {
     "name": "stderr",
     "output_type": "stream",
     "text": [
      "/home/martin/.pyenv/versions/icebreaker/lib/python3.11/site-packages/langsmith/client.py:241: LangSmithMissingAPIKeyWarning: API key must be provided when using hosted LangSmith API\n",
      "  warnings.warn(\n"
     ]
    },
    {
     "name": "stdout",
     "output_type": "stream",
     "text": [
      "\n",
      "\n",
      "\u001b[1m> Entering new AgentExecutor chain...\u001b[0m\n",
      "\u001b[32;1m\u001b[1;3mI need to find the Linkedin profile page for Harrison Chase.\n",
      "Action: Crawl Google 4 linkedin profile page\n",
      "Action Input: Harrison Chase\u001b[0m\u001b[36;1m\u001b[1;3mhttps://soaps.sheknows.com/general-hospital/characters/harrison-chase/\u001b[0m\u001b[32;1m\u001b[1;3mThis is not the correct Linkedin profile page, I need to try again.\n",
      "Action: Crawl Google 4 linkedin profile page\n",
      "Action Input: Harrison Chase Linkedin\u001b[0m\u001b[36;1m\u001b[1;3mhttps://www.linkedin.com/in/harrison-chase\u001b[0m\u001b[32;1m\u001b[1;3mI have found the correct Linkedin profile page for Harrison Chase.\n",
      "Final Answer: https://www.linkedin.com/in/harrison-chase\u001b[0m\n",
      "\n",
      "\u001b[1m> Finished chain.\u001b[0m\n"
     ]
    },
    {
     "name": "stderr",
     "output_type": "stream",
     "text": [
      "/tmp/ipykernel_4306/1503796156.py:22: LangChainDeprecationWarning: The class `LLMChain` was deprecated in LangChain 0.1.17 and will be removed in 1.0. Use :meth:`~RunnableSequence, e.g., `prompt | llm`` instead.\n",
      "  chain = LLMChain(llm=llm, prompt=summary_prompt_template) # Use LLMChain\n",
      "/tmp/ipykernel_4306/1503796156.py:24: LangChainDeprecationWarning: The method `Chain.run` was deprecated in langchain 0.1.0 and will be removed in 1.0. Use :meth:`~invoke` instead.\n",
      "  llm_output = chain.run(information=linkedin_data)\n"
     ]
    }
   ],
   "source": [
    "if __name__ == \"__main__\":\n",
    "    load_dotenv()\n",
    "\n",
    "    print(\"Ice Breaker Enter\")\n",
    "    ice_break_with(name=\"Harrison Chase\")"
   ]
  }
 ],
 "metadata": {
  "kernelspec": {
   "display_name": "icebreaker",
   "language": "python",
   "name": "python3"
  },
  "language_info": {
   "codemirror_mode": {
    "name": "ipython",
    "version": 3
   },
   "file_extension": ".py",
   "mimetype": "text/x-python",
   "name": "python",
   "nbconvert_exporter": "python",
   "pygments_lexer": "ipython3",
   "version": "3.11.4"
  }
 },
 "nbformat": 4,
 "nbformat_minor": 2
}
