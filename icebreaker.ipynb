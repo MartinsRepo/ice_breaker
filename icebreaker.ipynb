{
 "cells": [
  {
   "cell_type": "code",
   "execution_count": 5,
   "metadata": {},
   "outputs": [],
   "source": [
    "from dotenv import load_dotenv\n",
    "from langchain.prompts.prompt import PromptTemplate\n",
    "from langchain_openai import ChatOpenAI\n",
    "\n",
    "from output_parsers import summary_parser\n",
    "from third_parties.linkedin import scrape_linkedin_profile\n",
    "from agents.linkedin_lookup_agent import lookup as linkedin_lookup_agent"
   ]
  },
  {
   "cell_type": "code",
   "execution_count": null,
   "metadata": {},
   "outputs": [],
   "source": [
    "def ice_break_with(name: str) -> str:\n",
    "    linkedin_username = linkedin_lookup_agent(name=name)\n",
    "    linkedin_data = scrape_linkedin_profile(\n",
    "        linkedin_profile_url=linkedin_username, mock=True\n",
    "    )\n",
    "\n",
    "    summary_template = \"\"\"\n",
    "    given the information about a person from linkedin {information},\n",
    "    I want you to create:\n",
    "    1. A short summary\n",
    "    2. two interesting facts about them \n",
    "\n",
    "    Use both information from twitter and Linkedin\n",
    "    \\n{format_instructions}\n",
    "    \"\"\"\n",
    "    summary_prompt_template = PromptTemplate(\n",
    "        input_variables=[\"information\"],\n",
    "        template=summary_template,\n",
    "        partial_variables={\n",
    "            \"format_instructions\": summary_parser.get_format_instructions()\n",
    "        },\n",
    "    )\n",
    "\n",
    "    llm = ChatOpenAI(temperature=0, model_name=\"gpt-4o-mini\")\n",
    "\n",
    "    chain = summary_prompt_template | llm | summary_parser\n",
    "\n",
    "    res = chain.invoke(input={\"information\": linkedin_data})\n",
    "\n",
    "    print(res)"
   ]
  },
  {
   "cell_type": "code",
   "execution_count": 10,
   "metadata": {},
   "outputs": [
    {
     "name": "stdout",
     "output_type": "stream",
     "text": [
      "Ice Breaker Enter\n"
     ]
    },
    {
     "name": "stderr",
     "output_type": "stream",
     "text": [
      "/home/martin/anaconda3/envs/icebreaker/lib/python3.11/site-packages/langsmith/client.py:241: LangSmithMissingAPIKeyWarning: API key must be provided when using hosted LangSmith API\n",
      "  warnings.warn(\n"
     ]
    },
    {
     "name": "stdout",
     "output_type": "stream",
     "text": [
      "\n",
      "\n",
      "\u001b[1m> Entering new AgentExecutor chain...\u001b[0m\n",
      "\u001b[32;1m\u001b[1;3mI need to find the LinkedIn profile page for someone named Harrison Chase. To do this, I will use the tool to crawl Google for the LinkedIn profile page.  \n",
      "Action: Crawl Google 4 linkedin profile page  \n",
      "Action Input: Harrison Chase  \u001b[0m\u001b[36;1m\u001b[1;3m[{'url': 'https://soap-operas.fandom.com/wiki/Harrison_Chase', 'content': 'Harrison Chase is a fictional police officer and a character on the ABC soap opera General Hospital. He is the son of Gregory Chase and Jacqueline Templeton, and the half-brother of Hamilton Finn.'}, {'url': 'https://www.forbes.com/profile/harrison-chase/', 'content': 'Harrison Chase Harrison Chase Explore how this profile has been uniquely verified on the Ethereum blockchain by Forbes. Harrison Chase only cofounded LangChain in late 2022, but the company caught instant attention for enabling anyone to build apps powered by large language models like GPT-4 in as little as two dozen lines of code. Forbes Lists Explore how this profile has been uniquely verified on the Ethereum blockchain by Forbes. More on Forbes CEO Harrison Chase confirmed a $20 million funding round led by Sequoia and said his one-year-old startup already had a waitlist of 80,000 for its new tools. Connect with Harrison Chase More from Forbes 30 Under 30 - Enterprise Technology 2024 List Jobs At Forbes Forbes Accolades'}, {'url': 'https://www.reddit.com/r/LangChain/comments/17ffvxo/im_harrison_chase_ceo_and_cofounder_of_langchain/', 'content': \"I'm Harrison Chase, CEO and cofounder of LangChain-an open-source framework and developer toolkit that helps developers get LLM applications from prototype to production. Hi Reddit! Today is LangChain's first birthday and it's been incredibly exciting to see how far LLM app development has come in that time-and how much more there is to go\"}, {'url': 'https://soaps.sheknows.com/general-hospital/characters/harrison-chase/', 'content': 'Harrison Chase is a detective on the Port Charles police force and the half-brother of Dr. Hamilton Finn. He was hired by Jordan Ashford to replace Nathan West and has a history with Nelle Benson, who framed him for corruption.'}, {'url': 'https://www.linkedin.com/in/harrison-chase-961287118', 'content': 'Sign in to view Harrison’s full profile Harrison Chase Sign in to view Harrison’s full profile Sign in to view Harrison’s full profile Sign in to view Harrison’s full profile View mutual connections with Harrison Sign in to view Harrison’s full profile Sign in to view Harrison’s full profile View Harrison’s full experience More activity by Harrison Had the privilege of organizing an incredibly productive session today with Harrison Chase  CEO of LangChain, the #JPM #PrivateBank Data Intelligence… On December 10, join us in San Francisco at Pear VC for a fireside chat with Harrison Chase (CEO and co-founder LangChain) and James Groeneveld… View Harrison’s full profile Harrison Chase Harrison Chase Harrison Chase 11 others named Harrison Chase in United States are on LinkedIn View Harrison’s full profile'}]\u001b[0m\u001b[32;1m\u001b[1;3mI found a LinkedIn profile for someone named Harrison Chase. I will extract the URL from the observation.\n",
      "\n",
      "Final Answer: https://www.linkedin.com/in/harrison-chase-961287118\u001b[0m\n",
      "\n",
      "\u001b[1m> Finished chain.\u001b[0m\n"
     ]
    },
    {
     "ename": "NameError",
     "evalue": "name 'tweets' is not defined",
     "output_type": "error",
     "traceback": [
      "\u001b[0;31m---------------------------------------------------------------------------\u001b[0m",
      "\u001b[0;31mNameError\u001b[0m                                 Traceback (most recent call last)",
      "Cell \u001b[0;32mIn[10], line 5\u001b[0m\n\u001b[1;32m      2\u001b[0m load_dotenv()\n\u001b[1;32m      4\u001b[0m \u001b[38;5;28mprint\u001b[39m(\u001b[38;5;124m\"\u001b[39m\u001b[38;5;124mIce Breaker Enter\u001b[39m\u001b[38;5;124m\"\u001b[39m)\n\u001b[0;32m----> 5\u001b[0m \u001b[43mice_break_with\u001b[49m\u001b[43m(\u001b[49m\u001b[43mname\u001b[49m\u001b[38;5;241;43m=\u001b[39;49m\u001b[38;5;124;43m\"\u001b[39;49m\u001b[38;5;124;43mHarrison Chase\u001b[39;49m\u001b[38;5;124;43m\"\u001b[39;49m\u001b[43m)\u001b[49m\n",
      "Cell \u001b[0;32mIn[8], line 28\u001b[0m, in \u001b[0;36mice_break_with\u001b[0;34m(name)\u001b[0m\n\u001b[1;32m     24\u001b[0m llm \u001b[38;5;241m=\u001b[39m ChatOpenAI(temperature\u001b[38;5;241m=\u001b[39m\u001b[38;5;241m0\u001b[39m, model_name\u001b[38;5;241m=\u001b[39m\u001b[38;5;124m\"\u001b[39m\u001b[38;5;124mgpt-4o-mini\u001b[39m\u001b[38;5;124m\"\u001b[39m)\n\u001b[1;32m     26\u001b[0m chain \u001b[38;5;241m=\u001b[39m summary_prompt_template \u001b[38;5;241m|\u001b[39m llm \u001b[38;5;241m|\u001b[39m summary_parser\n\u001b[0;32m---> 28\u001b[0m res \u001b[38;5;241m=\u001b[39m chain\u001b[38;5;241m.\u001b[39minvoke(\u001b[38;5;28minput\u001b[39m\u001b[38;5;241m=\u001b[39m{\u001b[38;5;124m\"\u001b[39m\u001b[38;5;124minformation\u001b[39m\u001b[38;5;124m\"\u001b[39m: linkedin_data, \u001b[38;5;124m\"\u001b[39m\u001b[38;5;124mtwitter_posts\u001b[39m\u001b[38;5;124m\"\u001b[39m: \u001b[43mtweets\u001b[49m})\n\u001b[1;32m     30\u001b[0m \u001b[38;5;28mprint\u001b[39m(res)\n",
      "\u001b[0;31mNameError\u001b[0m: name 'tweets' is not defined"
     ]
    }
   ],
   "source": [
    "if __name__ == \"__main__\":\n",
    "    load_dotenv()\n",
    "\n",
    "    print(\"Ice Breaker Enter\")\n",
    "    ice_break_with(name=\"Harrison Chase\")"
   ]
  }
 ],
 "metadata": {
  "kernelspec": {
   "display_name": "icebreaker",
   "language": "python",
   "name": "python3"
  },
  "language_info": {
   "codemirror_mode": {
    "name": "ipython",
    "version": 3
   },
   "file_extension": ".py",
   "mimetype": "text/x-python",
   "name": "python",
   "nbconvert_exporter": "python",
   "pygments_lexer": "ipython3",
   "version": "3.11.4"
  }
 },
 "nbformat": 4,
 "nbformat_minor": 2
}
